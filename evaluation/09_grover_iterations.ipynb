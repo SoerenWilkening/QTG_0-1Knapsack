{
 "cells": [
  {
   "metadata": {
    "ExecuteTime": {
     "end_time": "2024-06-18T10:03:55.031774Z",
     "start_time": "2024-06-18T10:03:55.026372Z"
    }
   },
   "cell_type": "code",
   "source": [
    "import pandas as pd\n",
    "import matplotlib.pyplot as plt\n",
    "import matplotlib\n",
    "import numpy as np\n",
    "import seaborn as sns\n",
    "import math\n",
    "from algbench import read_as_pandas\n",
    "\n",
    "font = {'family': 'serif', 'size': 11}\n",
    "matplotlib.rc('font', **font)\n",
    "\n",
    "\"\"\"\n",
    "QTG: #089099 - PPQAgreen\n",
    "QTG non-biased: #7CCBA2 - PPQAlightgreen\n",
    "Grover:#F0746E - PPQAorange\n",
    "Nested Q Search:#DC3977 - PPQApink\n",
    "QBnB:#7C1D6F - PPQApurple\n",
    "\"\"\"\n",
    "matplotlib.rcParams['axes.prop_cycle'] = matplotlib.cycler(color=[\n",
    "    \"#089099\",\n",
    "    \"#7CCBA2\",\n",
    "    \"#F0746E\",\n",
    "    \"#DC3977\"\n",
    "])\n",
    "\n",
    "plt.rcParams[\"font.family\"] = \"serif\"\n",
    "plt.rcParams[\"font.serif\"] = \"Times New Roman\"\n",
    "plt.rcParams['mathtext.fontset'] = 'stix'\n",
    "plt.rcParams['figure.figsize'] = [9, 3.5]"
   ],
   "id": "d0899c569e7720e",
   "outputs": [],
   "execution_count": 3
  },
  {
   "cell_type": "code",
   "source": [
    "paths = ['classical_qtg_comparison/small', 'classical_qtg_comparison/large']\n",
    "\n",
    "qtg_results = pd.concat([read_as_pandas(f'results/quantum_benchmark/{path}', lambda row: {\n",
    "    'algorithm': 'QTG',\n",
    "    'size': row['parameters']['args']['instance']['size'],\n",
    "    'instance': row['parameters']['args']['instance']['name'],\n",
    "    'grover_iterations': row['parameters']['args']['alg_params']['qtg_iterations'],\n",
    "}) for path in paths])\n",
    "\n",
    "instances = pd.concat([read_as_pandas(f'results/classical_benchmark/{path}', lambda row: {\n",
    "    'instance': row['parameters']['args']['instance']['name'],\n",
    "    'items': row['parameters']['args']['instance']['items'],\n",
    "    'capacity': row['parameters']['args']['instance']['capacity'],\n",
    "    'item_assignment': row['result']['item_assignments'],\n",
    "} if row['parameters']['args']['solver'] == \"combo\" else None) for path in paths])\n"
   ],
   "metadata": {
    "collapsed": false,
    "ExecuteTime": {
     "end_time": "2024-06-18T10:04:14.987918Z",
     "start_time": "2024-06-18T10:04:14.858197Z"
    }
   },
   "id": "cfe5070779d6cd60",
   "outputs": [
    {
     "ename": "BadZipFile",
     "evalue": "File is not a zip file",
     "output_type": "error",
     "traceback": [
      "\u001B[0;31m---------------------------------------------------------------------------\u001B[0m",
      "\u001B[0;31mBadZipFile\u001B[0m                                Traceback (most recent call last)",
      "Cell \u001B[0;32mIn[5], line 3\u001B[0m\n\u001B[1;32m      1\u001B[0m paths \u001B[38;5;241m=\u001B[39m [\u001B[38;5;124m'\u001B[39m\u001B[38;5;124mclassical_qtg_comparison/small\u001B[39m\u001B[38;5;124m'\u001B[39m, \u001B[38;5;124m'\u001B[39m\u001B[38;5;124mclassical_qtg_comparison/large\u001B[39m\u001B[38;5;124m'\u001B[39m]\n\u001B[0;32m----> 3\u001B[0m qtg_results \u001B[38;5;241m=\u001B[39m pd\u001B[38;5;241m.\u001B[39mconcat(\u001B[43m[\u001B[49m\u001B[43mread_as_pandas\u001B[49m\u001B[43m(\u001B[49m\u001B[38;5;124;43mf\u001B[39;49m\u001B[38;5;124;43m'\u001B[39;49m\u001B[38;5;124;43mresults/quantum_benchmark/\u001B[39;49m\u001B[38;5;132;43;01m{\u001B[39;49;00m\u001B[43mpath\u001B[49m\u001B[38;5;132;43;01m}\u001B[39;49;00m\u001B[38;5;124;43m'\u001B[39;49m\u001B[43m,\u001B[49m\u001B[43m \u001B[49m\u001B[38;5;28;43;01mlambda\u001B[39;49;00m\u001B[43m \u001B[49m\u001B[43mrow\u001B[49m\u001B[43m:\u001B[49m\u001B[43m \u001B[49m\u001B[43m{\u001B[49m\n\u001B[1;32m      4\u001B[0m \u001B[43m    \u001B[49m\u001B[38;5;124;43m'\u001B[39;49m\u001B[38;5;124;43malgorithm\u001B[39;49m\u001B[38;5;124;43m'\u001B[39;49m\u001B[43m:\u001B[49m\u001B[43m \u001B[49m\u001B[38;5;124;43m'\u001B[39;49m\u001B[38;5;124;43mQTG\u001B[39;49m\u001B[38;5;124;43m'\u001B[39;49m\u001B[43m,\u001B[49m\n\u001B[1;32m      5\u001B[0m \u001B[43m    \u001B[49m\u001B[38;5;124;43m'\u001B[39;49m\u001B[38;5;124;43msize\u001B[39;49m\u001B[38;5;124;43m'\u001B[39;49m\u001B[43m:\u001B[49m\u001B[43m \u001B[49m\u001B[43mrow\u001B[49m\u001B[43m[\u001B[49m\u001B[38;5;124;43m'\u001B[39;49m\u001B[38;5;124;43mparameters\u001B[39;49m\u001B[38;5;124;43m'\u001B[39;49m\u001B[43m]\u001B[49m\u001B[43m[\u001B[49m\u001B[38;5;124;43m'\u001B[39;49m\u001B[38;5;124;43margs\u001B[39;49m\u001B[38;5;124;43m'\u001B[39;49m\u001B[43m]\u001B[49m\u001B[43m[\u001B[49m\u001B[38;5;124;43m'\u001B[39;49m\u001B[38;5;124;43minstance\u001B[39;49m\u001B[38;5;124;43m'\u001B[39;49m\u001B[43m]\u001B[49m\u001B[43m[\u001B[49m\u001B[38;5;124;43m'\u001B[39;49m\u001B[38;5;124;43msize\u001B[39;49m\u001B[38;5;124;43m'\u001B[39;49m\u001B[43m]\u001B[49m\u001B[43m,\u001B[49m\n\u001B[1;32m      6\u001B[0m \u001B[43m    \u001B[49m\u001B[38;5;124;43m'\u001B[39;49m\u001B[38;5;124;43minstance\u001B[39;49m\u001B[38;5;124;43m'\u001B[39;49m\u001B[43m:\u001B[49m\u001B[43m \u001B[49m\u001B[43mrow\u001B[49m\u001B[43m[\u001B[49m\u001B[38;5;124;43m'\u001B[39;49m\u001B[38;5;124;43mparameters\u001B[39;49m\u001B[38;5;124;43m'\u001B[39;49m\u001B[43m]\u001B[49m\u001B[43m[\u001B[49m\u001B[38;5;124;43m'\u001B[39;49m\u001B[38;5;124;43margs\u001B[39;49m\u001B[38;5;124;43m'\u001B[39;49m\u001B[43m]\u001B[49m\u001B[43m[\u001B[49m\u001B[38;5;124;43m'\u001B[39;49m\u001B[38;5;124;43minstance\u001B[39;49m\u001B[38;5;124;43m'\u001B[39;49m\u001B[43m]\u001B[49m\u001B[43m[\u001B[49m\u001B[38;5;124;43m'\u001B[39;49m\u001B[38;5;124;43mname\u001B[39;49m\u001B[38;5;124;43m'\u001B[39;49m\u001B[43m]\u001B[49m\u001B[43m,\u001B[49m\n\u001B[1;32m      7\u001B[0m \u001B[43m    \u001B[49m\u001B[38;5;124;43m'\u001B[39;49m\u001B[38;5;124;43mgrover_iterations\u001B[39;49m\u001B[38;5;124;43m'\u001B[39;49m\u001B[43m:\u001B[49m\u001B[43m \u001B[49m\u001B[43mrow\u001B[49m\u001B[43m[\u001B[49m\u001B[38;5;124;43m'\u001B[39;49m\u001B[38;5;124;43mparameters\u001B[39;49m\u001B[38;5;124;43m'\u001B[39;49m\u001B[43m]\u001B[49m\u001B[43m[\u001B[49m\u001B[38;5;124;43m'\u001B[39;49m\u001B[38;5;124;43margs\u001B[39;49m\u001B[38;5;124;43m'\u001B[39;49m\u001B[43m]\u001B[49m\u001B[43m[\u001B[49m\u001B[38;5;124;43m'\u001B[39;49m\u001B[38;5;124;43malg_params\u001B[39;49m\u001B[38;5;124;43m'\u001B[39;49m\u001B[43m]\u001B[49m\u001B[43m[\u001B[49m\u001B[38;5;124;43m'\u001B[39;49m\u001B[38;5;124;43mqtg_iterations\u001B[39;49m\u001B[38;5;124;43m'\u001B[39;49m\u001B[43m]\u001B[49m\u001B[43m,\u001B[49m\n\u001B[1;32m      8\u001B[0m \u001B[43m}\u001B[49m\u001B[43m)\u001B[49m\u001B[43m \u001B[49m\u001B[38;5;28;43;01mfor\u001B[39;49;00m\u001B[43m \u001B[49m\u001B[43mpath\u001B[49m\u001B[43m \u001B[49m\u001B[38;5;129;43;01min\u001B[39;49;00m\u001B[43m \u001B[49m\u001B[43mpaths\u001B[49m\u001B[43m]\u001B[49m)\n\u001B[1;32m     10\u001B[0m \u001B[38;5;66;03m# instances = pd.concat([read_as_pandas(f'results/classical_benchmark/{path}', lambda row: {\u001B[39;00m\n\u001B[1;32m     11\u001B[0m \u001B[38;5;66;03m#     'instance': row['parameters']['args']['instance']['name'],\u001B[39;00m\n\u001B[1;32m     12\u001B[0m \u001B[38;5;66;03m#     'items': row['parameters']['args']['instance']['items'],\u001B[39;00m\n\u001B[1;32m     13\u001B[0m \u001B[38;5;66;03m#     'capacity': row['parameters']['args']['instance']['capacity'],\u001B[39;00m\n\u001B[1;32m     14\u001B[0m \u001B[38;5;66;03m#     'item_assignment': row['result']['item_assignments'],\u001B[39;00m\n\u001B[1;32m     15\u001B[0m \u001B[38;5;66;03m# } if row['parameters']['args']['solver'] == \"combo\" else None) for path in paths])\u001B[39;00m\n",
      "Cell \u001B[0;32mIn[5], line 3\u001B[0m, in \u001B[0;36m<listcomp>\u001B[0;34m(.0)\u001B[0m\n\u001B[1;32m      1\u001B[0m paths \u001B[38;5;241m=\u001B[39m [\u001B[38;5;124m'\u001B[39m\u001B[38;5;124mclassical_qtg_comparison/small\u001B[39m\u001B[38;5;124m'\u001B[39m, \u001B[38;5;124m'\u001B[39m\u001B[38;5;124mclassical_qtg_comparison/large\u001B[39m\u001B[38;5;124m'\u001B[39m]\n\u001B[0;32m----> 3\u001B[0m qtg_results \u001B[38;5;241m=\u001B[39m pd\u001B[38;5;241m.\u001B[39mconcat([\u001B[43mread_as_pandas\u001B[49m\u001B[43m(\u001B[49m\u001B[38;5;124;43mf\u001B[39;49m\u001B[38;5;124;43m'\u001B[39;49m\u001B[38;5;124;43mresults/quantum_benchmark/\u001B[39;49m\u001B[38;5;132;43;01m{\u001B[39;49;00m\u001B[43mpath\u001B[49m\u001B[38;5;132;43;01m}\u001B[39;49;00m\u001B[38;5;124;43m'\u001B[39;49m\u001B[43m,\u001B[49m\u001B[43m \u001B[49m\u001B[38;5;28;43;01mlambda\u001B[39;49;00m\u001B[43m \u001B[49m\u001B[43mrow\u001B[49m\u001B[43m:\u001B[49m\u001B[43m \u001B[49m\u001B[43m{\u001B[49m\n\u001B[1;32m      4\u001B[0m \u001B[43m    \u001B[49m\u001B[38;5;124;43m'\u001B[39;49m\u001B[38;5;124;43malgorithm\u001B[39;49m\u001B[38;5;124;43m'\u001B[39;49m\u001B[43m:\u001B[49m\u001B[43m \u001B[49m\u001B[38;5;124;43m'\u001B[39;49m\u001B[38;5;124;43mQTG\u001B[39;49m\u001B[38;5;124;43m'\u001B[39;49m\u001B[43m,\u001B[49m\n\u001B[1;32m      5\u001B[0m \u001B[43m    \u001B[49m\u001B[38;5;124;43m'\u001B[39;49m\u001B[38;5;124;43msize\u001B[39;49m\u001B[38;5;124;43m'\u001B[39;49m\u001B[43m:\u001B[49m\u001B[43m \u001B[49m\u001B[43mrow\u001B[49m\u001B[43m[\u001B[49m\u001B[38;5;124;43m'\u001B[39;49m\u001B[38;5;124;43mparameters\u001B[39;49m\u001B[38;5;124;43m'\u001B[39;49m\u001B[43m]\u001B[49m\u001B[43m[\u001B[49m\u001B[38;5;124;43m'\u001B[39;49m\u001B[38;5;124;43margs\u001B[39;49m\u001B[38;5;124;43m'\u001B[39;49m\u001B[43m]\u001B[49m\u001B[43m[\u001B[49m\u001B[38;5;124;43m'\u001B[39;49m\u001B[38;5;124;43minstance\u001B[39;49m\u001B[38;5;124;43m'\u001B[39;49m\u001B[43m]\u001B[49m\u001B[43m[\u001B[49m\u001B[38;5;124;43m'\u001B[39;49m\u001B[38;5;124;43msize\u001B[39;49m\u001B[38;5;124;43m'\u001B[39;49m\u001B[43m]\u001B[49m\u001B[43m,\u001B[49m\n\u001B[1;32m      6\u001B[0m \u001B[43m    \u001B[49m\u001B[38;5;124;43m'\u001B[39;49m\u001B[38;5;124;43minstance\u001B[39;49m\u001B[38;5;124;43m'\u001B[39;49m\u001B[43m:\u001B[49m\u001B[43m \u001B[49m\u001B[43mrow\u001B[49m\u001B[43m[\u001B[49m\u001B[38;5;124;43m'\u001B[39;49m\u001B[38;5;124;43mparameters\u001B[39;49m\u001B[38;5;124;43m'\u001B[39;49m\u001B[43m]\u001B[49m\u001B[43m[\u001B[49m\u001B[38;5;124;43m'\u001B[39;49m\u001B[38;5;124;43margs\u001B[39;49m\u001B[38;5;124;43m'\u001B[39;49m\u001B[43m]\u001B[49m\u001B[43m[\u001B[49m\u001B[38;5;124;43m'\u001B[39;49m\u001B[38;5;124;43minstance\u001B[39;49m\u001B[38;5;124;43m'\u001B[39;49m\u001B[43m]\u001B[49m\u001B[43m[\u001B[49m\u001B[38;5;124;43m'\u001B[39;49m\u001B[38;5;124;43mname\u001B[39;49m\u001B[38;5;124;43m'\u001B[39;49m\u001B[43m]\u001B[49m\u001B[43m,\u001B[49m\n\u001B[1;32m      7\u001B[0m \u001B[43m    \u001B[49m\u001B[38;5;124;43m'\u001B[39;49m\u001B[38;5;124;43mgrover_iterations\u001B[39;49m\u001B[38;5;124;43m'\u001B[39;49m\u001B[43m:\u001B[49m\u001B[43m \u001B[49m\u001B[43mrow\u001B[49m\u001B[43m[\u001B[49m\u001B[38;5;124;43m'\u001B[39;49m\u001B[38;5;124;43mparameters\u001B[39;49m\u001B[38;5;124;43m'\u001B[39;49m\u001B[43m]\u001B[49m\u001B[43m[\u001B[49m\u001B[38;5;124;43m'\u001B[39;49m\u001B[38;5;124;43margs\u001B[39;49m\u001B[38;5;124;43m'\u001B[39;49m\u001B[43m]\u001B[49m\u001B[43m[\u001B[49m\u001B[38;5;124;43m'\u001B[39;49m\u001B[38;5;124;43malg_params\u001B[39;49m\u001B[38;5;124;43m'\u001B[39;49m\u001B[43m]\u001B[49m\u001B[43m[\u001B[49m\u001B[38;5;124;43m'\u001B[39;49m\u001B[38;5;124;43mqtg_iterations\u001B[39;49m\u001B[38;5;124;43m'\u001B[39;49m\u001B[43m]\u001B[49m\u001B[43m,\u001B[49m\n\u001B[1;32m      8\u001B[0m \u001B[43m}\u001B[49m\u001B[43m)\u001B[49m \u001B[38;5;28;01mfor\u001B[39;00m path \u001B[38;5;129;01min\u001B[39;00m paths])\n\u001B[1;32m     10\u001B[0m \u001B[38;5;66;03m# instances = pd.concat([read_as_pandas(f'results/classical_benchmark/{path}', lambda row: {\u001B[39;00m\n\u001B[1;32m     11\u001B[0m \u001B[38;5;66;03m#     'instance': row['parameters']['args']['instance']['name'],\u001B[39;00m\n\u001B[1;32m     12\u001B[0m \u001B[38;5;66;03m#     'items': row['parameters']['args']['instance']['items'],\u001B[39;00m\n\u001B[1;32m     13\u001B[0m \u001B[38;5;66;03m#     'capacity': row['parameters']['args']['instance']['capacity'],\u001B[39;00m\n\u001B[1;32m     14\u001B[0m \u001B[38;5;66;03m#     'item_assignment': row['result']['item_assignments'],\u001B[39;00m\n\u001B[1;32m     15\u001B[0m \u001B[38;5;66;03m# } if row['parameters']['args']['solver'] == \"combo\" else None) for path in paths])\u001B[39;00m\n",
      "File \u001B[0;32m~/Desktop/QTG_0-1Knapsack/.venv/lib/python3.11/site-packages/algbench/pandas.py:82\u001B[0m, in \u001B[0;36mread_as_pandas\u001B[0;34m(path, row_creator)\u001B[0m\n\u001B[1;32m     80\u001B[0m data: typing\u001B[38;5;241m.\u001B[39mDict[\u001B[38;5;28mstr\u001B[39m, \u001B[38;5;28mlist\u001B[39m] \u001B[38;5;241m=\u001B[39m {}\n\u001B[1;32m     81\u001B[0m n \u001B[38;5;241m=\u001B[39m \u001B[38;5;241m0\u001B[39m\n\u001B[0;32m---> 82\u001B[0m benchmark \u001B[38;5;241m=\u001B[39m \u001B[43mBenchmark\u001B[49m\u001B[43m(\u001B[49m\u001B[43mpath\u001B[49m\u001B[43m)\u001B[49m\n\u001B[1;32m     83\u001B[0m \u001B[38;5;28;01mfor\u001B[39;00m entry \u001B[38;5;129;01min\u001B[39;00m benchmark:\n\u001B[1;32m     84\u001B[0m     row \u001B[38;5;241m=\u001B[39m row_creator(entry)\n",
      "File \u001B[0;32m~/Desktop/QTG_0-1Knapsack/.venv/lib/python3.11/site-packages/algbench/benchmark.py:81\u001B[0m, in \u001B[0;36mBenchmark.__init__\u001B[0;34m(self, path, save_output, hide_output, save_output_with_time)\u001B[0m\n\u001B[1;32m     45\u001B[0m \u001B[38;5;28;01mdef\u001B[39;00m \u001B[38;5;21m__init__\u001B[39m(\n\u001B[1;32m     46\u001B[0m     \u001B[38;5;28mself\u001B[39m,\n\u001B[1;32m     47\u001B[0m     path: \u001B[38;5;28mstr\u001B[39m,\n\u001B[0;32m   (...)\u001B[0m\n\u001B[1;32m     50\u001B[0m     save_output_with_time: \u001B[38;5;28mbool\u001B[39m \u001B[38;5;241m=\u001B[39m \u001B[38;5;28;01mTrue\u001B[39;00m,\n\u001B[1;32m     51\u001B[0m ) \u001B[38;5;241m-\u001B[39m\u001B[38;5;241m>\u001B[39m \u001B[38;5;28;01mNone\u001B[39;00m:\n\u001B[1;32m     52\u001B[0m \u001B[38;5;250m    \u001B[39m\u001B[38;5;124;03m\"\"\"\u001B[39;00m\n\u001B[1;32m     53\u001B[0m \u001B[38;5;124;03m    Just specify the path of where to put the\u001B[39;00m\n\u001B[1;32m     54\u001B[0m \u001B[38;5;124;03m    database and everything else happens magically.\u001B[39;00m\n\u001B[0;32m   (...)\u001B[0m\n\u001B[1;32m     79\u001B[0m \u001B[38;5;124;03m        set to false.\u001B[39;00m\n\u001B[1;32m     80\u001B[0m \u001B[38;5;124;03m    \"\"\"\u001B[39;00m\n\u001B[0;32m---> 81\u001B[0m     \u001B[38;5;28mself\u001B[39m\u001B[38;5;241m.\u001B[39m_db \u001B[38;5;241m=\u001B[39m \u001B[43mBenchmarkDb\u001B[49m\u001B[43m(\u001B[49m\u001B[43mpath\u001B[49m\u001B[43m)\u001B[49m\n\u001B[1;32m     82\u001B[0m     \u001B[38;5;28mself\u001B[39m\u001B[38;5;241m.\u001B[39m_save_output \u001B[38;5;241m=\u001B[39m save_output\n\u001B[1;32m     83\u001B[0m     \u001B[38;5;28mself\u001B[39m\u001B[38;5;241m.\u001B[39m_hide_output \u001B[38;5;241m=\u001B[39m hide_output\n",
      "File \u001B[0;32m~/Desktop/QTG_0-1Knapsack/.venv/lib/python3.11/site-packages/algbench/benchmark_db.py:16\u001B[0m, in \u001B[0;36mBenchmarkDb.__init__\u001B[0;34m(self, path)\u001B[0m\n\u001B[1;32m     14\u001B[0m \u001B[38;5;28mself\u001B[39m\u001B[38;5;241m.\u001B[39mpath \u001B[38;5;241m=\u001B[39m path\n\u001B[1;32m     15\u001B[0m \u001B[38;5;28mself\u001B[39m\u001B[38;5;241m.\u001B[39m_create_or_check_info_file()\n\u001B[0;32m---> 16\u001B[0m \u001B[38;5;28mself\u001B[39m\u001B[38;5;241m.\u001B[39m_arg_fingerprints \u001B[38;5;241m=\u001B[39m \u001B[43mNfsJsonSet\u001B[49m\u001B[43m(\u001B[49m\u001B[43mos\u001B[49m\u001B[38;5;241;43m.\u001B[39;49m\u001B[43mpath\u001B[49m\u001B[38;5;241;43m.\u001B[39;49m\u001B[43mjoin\u001B[49m\u001B[43m(\u001B[49m\u001B[43mpath\u001B[49m\u001B[43m,\u001B[49m\u001B[43m \u001B[49m\u001B[38;5;124;43m\"\u001B[39;49m\u001B[38;5;124;43marg_fingerprints\u001B[39;49m\u001B[38;5;124;43m\"\u001B[39;49m\u001B[43m)\u001B[49m\u001B[43m)\u001B[49m\n\u001B[1;32m     17\u001B[0m \u001B[38;5;28mself\u001B[39m\u001B[38;5;241m.\u001B[39m_data \u001B[38;5;241m=\u001B[39m NfsJsonList(os\u001B[38;5;241m.\u001B[39mpath\u001B[38;5;241m.\u001B[39mjoin(path, \u001B[38;5;124m\"\u001B[39m\u001B[38;5;124mresults\u001B[39m\u001B[38;5;124m\"\u001B[39m))\n\u001B[1;32m     18\u001B[0m \u001B[38;5;28mself\u001B[39m\u001B[38;5;241m.\u001B[39m_env_data \u001B[38;5;241m=\u001B[39m NfsJsonDict(os\u001B[38;5;241m.\u001B[39mpath\u001B[38;5;241m.\u001B[39mjoin(path, \u001B[38;5;124m\"\u001B[39m\u001B[38;5;124menv_info\u001B[39m\u001B[38;5;124m\"\u001B[39m))\n",
      "File \u001B[0;32m~/Desktop/QTG_0-1Knapsack/.venv/lib/python3.11/site-packages/algbench/db/nfs_json_set.py:13\u001B[0m, in \u001B[0;36mNfsJsonSet.__init__\u001B[0;34m(self, path)\u001B[0m\n\u001B[1;32m     10\u001B[0m \u001B[38;5;66;03m# __values mirrors the database, but is a set\u001B[39;00m\n\u001B[1;32m     11\u001B[0m \u001B[38;5;66;03m# It is expected to be relatively small, so that it can be kept in memory.\u001B[39;00m\n\u001B[1;32m     12\u001B[0m \u001B[38;5;28mself\u001B[39m\u001B[38;5;241m.\u001B[39m_values: typing\u001B[38;5;241m.\u001B[39mSet \u001B[38;5;241m=\u001B[39m \u001B[38;5;28mset\u001B[39m()\n\u001B[0;32m---> 13\u001B[0m \u001B[38;5;28;43mself\u001B[39;49m\u001B[38;5;241;43m.\u001B[39;49m\u001B[43mload\u001B[49m\u001B[43m(\u001B[49m\u001B[43m)\u001B[49m\n",
      "File \u001B[0;32m~/Desktop/QTG_0-1Knapsack/.venv/lib/python3.11/site-packages/algbench/db/nfs_json_set.py:16\u001B[0m, in \u001B[0;36mNfsJsonSet.load\u001B[0;34m(self)\u001B[0m\n\u001B[1;32m     15\u001B[0m \u001B[38;5;28;01mdef\u001B[39;00m \u001B[38;5;21mload\u001B[39m(\u001B[38;5;28mself\u001B[39m):\n\u001B[0;32m---> 16\u001B[0m     \u001B[38;5;28;01mfor\u001B[39;00m row \u001B[38;5;129;01min\u001B[39;00m \u001B[38;5;28;43mself\u001B[39;49m\u001B[38;5;241;43m.\u001B[39;49m\u001B[43m_db\u001B[49m\u001B[38;5;241;43m.\u001B[39;49m\u001B[43mload\u001B[49m\u001B[43m(\u001B[49m\u001B[43m)\u001B[49m:\n\u001B[1;32m     17\u001B[0m         \u001B[38;5;28mself\u001B[39m\u001B[38;5;241m.\u001B[39m_values\u001B[38;5;241m.\u001B[39mupdate(row)\n",
      "File \u001B[0;32m~/Desktop/QTG_0-1Knapsack/.venv/lib/python3.11/site-packages/algbench/db/nfs_json_list.py:175\u001B[0m, in \u001B[0;36mNfsJsonList.load\u001B[0;34m(self)\u001B[0m\n\u001B[1;32m    174\u001B[0m \u001B[38;5;28;01mdef\u001B[39;00m \u001B[38;5;21mload\u001B[39m(\u001B[38;5;28mself\u001B[39m) \u001B[38;5;241m-\u001B[39m\u001B[38;5;241m>\u001B[39m typing\u001B[38;5;241m.\u001B[39mList:\n\u001B[0;32m--> 175\u001B[0m     \u001B[38;5;28;01mreturn\u001B[39;00m \u001B[38;5;28;43mlist\u001B[39;49m\u001B[43m(\u001B[49m\u001B[38;5;28;43mself\u001B[39;49m\u001B[43m)\u001B[49m\n",
      "File \u001B[0;32m~/Desktop/QTG_0-1Knapsack/.venv/lib/python3.11/site-packages/algbench/db/nfs_json_list.py:167\u001B[0m, in \u001B[0;36mNfsJsonList.__iter__\u001B[0;34m(self)\u001B[0m\n\u001B[1;32m    166\u001B[0m \u001B[38;5;28;01mdef\u001B[39;00m \u001B[38;5;21m__iter__\u001B[39m(\u001B[38;5;28mself\u001B[39m):\n\u001B[0;32m--> 167\u001B[0m \u001B[43m    \u001B[49m\u001B[38;5;28;43;01mfor\u001B[39;49;00m\u001B[43m \u001B[49m\u001B[43mentry\u001B[49m\u001B[43m \u001B[49m\u001B[38;5;129;43;01min\u001B[39;49;00m\u001B[43m \u001B[49m\u001B[38;5;28;43mself\u001B[39;49m\u001B[38;5;241;43m.\u001B[39;49m\u001B[43miter_compressed\u001B[49m\u001B[43m(\u001B[49m\u001B[43m)\u001B[49m\u001B[43m:\u001B[49m\n\u001B[1;32m    168\u001B[0m \u001B[43m        \u001B[49m\u001B[38;5;28;43;01myield\u001B[39;49;00m\u001B[43m \u001B[49m\u001B[43mentry\u001B[49m\n\u001B[1;32m    169\u001B[0m     \u001B[38;5;28;01mfor\u001B[39;00m entry \u001B[38;5;129;01min\u001B[39;00m \u001B[38;5;28mself\u001B[39m\u001B[38;5;241m.\u001B[39miter_uncompressed():\n",
      "File \u001B[0;32m~/Desktop/QTG_0-1Knapsack/.venv/lib/python3.11/site-packages/algbench/db/nfs_json_list.py:133\u001B[0m, in \u001B[0;36mNfsJsonList.iter_compressed\u001B[0;34m(self)\u001B[0m\n\u001B[1;32m    131\u001B[0m compr_path \u001B[38;5;241m=\u001B[39m os\u001B[38;5;241m.\u001B[39mpath\u001B[38;5;241m.\u001B[39mjoin(\u001B[38;5;28mself\u001B[39m\u001B[38;5;241m.\u001B[39mpath, \u001B[38;5;124m\"\u001B[39m\u001B[38;5;124m_compressed.zip\u001B[39m\u001B[38;5;124m\"\u001B[39m)\n\u001B[1;32m    132\u001B[0m \u001B[38;5;28;01mif\u001B[39;00m os\u001B[38;5;241m.\u001B[39mpath\u001B[38;5;241m.\u001B[39mexists(compr_path):\n\u001B[0;32m--> 133\u001B[0m     \u001B[38;5;28;01mwith\u001B[39;00m \u001B[43mZipFile\u001B[49m\u001B[43m(\u001B[49m\u001B[43mcompr_path\u001B[49m\u001B[43m,\u001B[49m\u001B[43m \u001B[49m\u001B[38;5;124;43m\"\u001B[39;49m\u001B[38;5;124;43mr\u001B[39;49m\u001B[38;5;124;43m\"\u001B[39;49m\u001B[43m)\u001B[49m \u001B[38;5;28;01mas\u001B[39;00m z:\n\u001B[1;32m    134\u001B[0m         \u001B[38;5;28;01mfor\u001B[39;00m filename \u001B[38;5;129;01min\u001B[39;00m z\u001B[38;5;241m.\u001B[39mfilelist:\n\u001B[1;32m    135\u001B[0m             \u001B[38;5;28;01myield from\u001B[39;00m \u001B[38;5;28mself\u001B[39m\u001B[38;5;241m.\u001B[39m_iter_compressed_file(z, filename, compr_path)\n",
      "File \u001B[0;32m~/.pyenv/versions/3.11.9/lib/python3.11/zipfile.py:1312\u001B[0m, in \u001B[0;36mZipFile.__init__\u001B[0;34m(self, file, mode, compression, allowZip64, compresslevel, strict_timestamps, metadata_encoding)\u001B[0m\n\u001B[1;32m   1310\u001B[0m \u001B[38;5;28;01mtry\u001B[39;00m:\n\u001B[1;32m   1311\u001B[0m     \u001B[38;5;28;01mif\u001B[39;00m mode \u001B[38;5;241m==\u001B[39m \u001B[38;5;124m'\u001B[39m\u001B[38;5;124mr\u001B[39m\u001B[38;5;124m'\u001B[39m:\n\u001B[0;32m-> 1312\u001B[0m         \u001B[38;5;28;43mself\u001B[39;49m\u001B[38;5;241;43m.\u001B[39;49m\u001B[43m_RealGetContents\u001B[49m\u001B[43m(\u001B[49m\u001B[43m)\u001B[49m\n\u001B[1;32m   1313\u001B[0m     \u001B[38;5;28;01melif\u001B[39;00m mode \u001B[38;5;129;01min\u001B[39;00m (\u001B[38;5;124m'\u001B[39m\u001B[38;5;124mw\u001B[39m\u001B[38;5;124m'\u001B[39m, \u001B[38;5;124m'\u001B[39m\u001B[38;5;124mx\u001B[39m\u001B[38;5;124m'\u001B[39m):\n\u001B[1;32m   1314\u001B[0m         \u001B[38;5;66;03m# set the modified flag so central directory gets written\u001B[39;00m\n\u001B[1;32m   1315\u001B[0m         \u001B[38;5;66;03m# even if no files are added to the archive\u001B[39;00m\n\u001B[1;32m   1316\u001B[0m         \u001B[38;5;28mself\u001B[39m\u001B[38;5;241m.\u001B[39m_didModify \u001B[38;5;241m=\u001B[39m \u001B[38;5;28;01mTrue\u001B[39;00m\n",
      "File \u001B[0;32m~/.pyenv/versions/3.11.9/lib/python3.11/zipfile.py:1379\u001B[0m, in \u001B[0;36mZipFile._RealGetContents\u001B[0;34m(self)\u001B[0m\n\u001B[1;32m   1377\u001B[0m     \u001B[38;5;28;01mraise\u001B[39;00m BadZipFile(\u001B[38;5;124m\"\u001B[39m\u001B[38;5;124mFile is not a zip file\u001B[39m\u001B[38;5;124m\"\u001B[39m)\n\u001B[1;32m   1378\u001B[0m \u001B[38;5;28;01mif\u001B[39;00m \u001B[38;5;129;01mnot\u001B[39;00m endrec:\n\u001B[0;32m-> 1379\u001B[0m     \u001B[38;5;28;01mraise\u001B[39;00m BadZipFile(\u001B[38;5;124m\"\u001B[39m\u001B[38;5;124mFile is not a zip file\u001B[39m\u001B[38;5;124m\"\u001B[39m)\n\u001B[1;32m   1380\u001B[0m \u001B[38;5;28;01mif\u001B[39;00m \u001B[38;5;28mself\u001B[39m\u001B[38;5;241m.\u001B[39mdebug \u001B[38;5;241m>\u001B[39m \u001B[38;5;241m1\u001B[39m:\n\u001B[1;32m   1381\u001B[0m     \u001B[38;5;28mprint\u001B[39m(endrec)\n",
      "\u001B[0;31mBadZipFile\u001B[0m: File is not a zip file"
     ]
    }
   ],
   "execution_count": 5
  },
  {
   "metadata": {
    "ExecuteTime": {
     "end_time": "2024-06-18T10:01:40.137517Z",
     "start_time": "2024-06-18T10:01:40.137374Z"
    }
   },
   "cell_type": "code",
   "source": [
    "break_items = dict()\n",
    "prob_of_opt = dict()\n",
    "for _, row in instances.iterrows():\n",
    "    remaining_capacity = row['capacity']\n",
    "    \n",
    "    items = list(sorted(row['items'], key=lambda item: item['cost']/item['profit']))\n",
    "\n",
    "    for i, item in enumerate(items):\n",
    "        if item['cost'] > remaining_capacity:\n",
    "            break_items[row['instance']] = i\n",
    "            break\n",
    "            \n",
    "        remaining_capacity -= item['cost']\n",
    "    \n",
    "    current_probability = 1\n",
    "    remaining_capacity = row['capacity']\n",
    "    \n",
    "    # holds the index of the last true item in OPT, i.e. the depth of OPT\n",
    "    max_true_assignment = max(range(len(row['item_assignment'])), key=lambda i: row['item_assignment'][i])\n",
    "    \n",
    "    for i, item in enumerate(items):\n",
    "        if item['cost'] <= remaining_capacity:\n",
    "            # item can be picked or not\n",
    "            current_probability /= 2\n",
    "        \n",
    "        if row['item_assignment'][i]:\n",
    "            # item was picked by opt\n",
    "            remaining_capacity -= item['cost']\n",
    "        \n",
    "        if i == max_true_assignment:\n",
    "            break\n",
    "    \n",
    "    prob_of_opt[row['instance']] = current_probability\n",
    "\n",
    "    assert remaining_capacity >= 0\n",
    "    assert row['instance'] in break_items\n"
   ],
   "id": "a31a11c0f4eb6860",
   "outputs": [],
   "execution_count": null
  },
  {
   "metadata": {},
   "cell_type": "code",
   "source": [
    "grover_iteration_dfs = pd.concat([\n",
    "    pd.DataFrame({\n",
    "        \"algorithm\": \"Nested Q Search\",\n",
    "        \"size\": list(qtg_results[\"size\"]),\n",
    "        \"instance\": list(qtg_results[\"instance\"]),\n",
    "        \"grover_iterations\": [2 ** ((row[\"size\"] + break_items[row[\"instance\"]]) / 4 + 1)\n",
    "                              for _, row in qtg_results.iterrows()],\n",
    "    }),\n",
    "    pd.DataFrame({\n",
    "        \"algorithm\": \"Grover\",\n",
    "        \"size\": list(qtg_results[\"size\"]),\n",
    "        \"instance\": list(qtg_results[\"instance\"]),\n",
    "        \"grover_iterations\": [2 ** (i/2) for i in qtg_results[\"size\"]],\n",
    "    }),\n",
    "    pd.DataFrame({\n",
    "        \"algorithm\": \"QTG non-biased\",\n",
    "        \"size\": [i for i in qtg_results[\"size\"]],\n",
    "        \"instance\": list(qtg_results[\"instance\"]),\n",
    "        \"grover_iterations\": [1. / np.sqrt(prob_of_opt[instance]) for instance in qtg_results[\"instance\"]],\n",
    "    }),\n",
    "    qtg_results\n",
    "])"
   ],
   "id": "7d3a40ab155a4833",
   "outputs": [],
   "execution_count": null
  },
  {
   "metadata": {},
   "cell_type": "code",
   "source": [
    "fig, ax = plt.subplots(figsize=(4.5, 3.5))\n",
    "sns.lineplot(grover_iteration_dfs, x=\"size\", y=\"grover_iterations\", hue=\"algorithm\", hue_order=[\n",
    "    \"QTG\", \"QTG non-biased\", \"Grover\", \"Nested Q Search\"\n",
    "], ax=ax)\n",
    "ax.set_yscale('log')\n",
    "\n",
    "ax.set_ylabel(\"Grover iterations\")\n",
    "fig.savefig(\"out/09_grover_iterations.pdf\", bbox_inches='tight')"
   ],
   "id": "b96cf708f8cc65d2",
   "outputs": [],
   "execution_count": null
  },
  {
   "metadata": {},
   "cell_type": "code",
   "source": "",
   "id": "9ea6927fbc20e34b",
   "outputs": [],
   "execution_count": null
  }
 ],
 "metadata": {
  "kernelspec": {
   "display_name": "Python 3",
   "language": "python",
   "name": "python3"
  },
  "language_info": {
   "codemirror_mode": {
    "name": "ipython",
    "version": 2
   },
   "file_extension": ".py",
   "mimetype": "text/x-python",
   "name": "python",
   "nbconvert_exporter": "python",
   "pygments_lexer": "ipython2",
   "version": "2.7.6"
  }
 },
 "nbformat": 4,
 "nbformat_minor": 5
}
