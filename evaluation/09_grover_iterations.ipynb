{
 "cells": [
  {
   "metadata": {
    "ExecuteTime": {
     "end_time": "2024-06-17T19:49:35.715894Z",
     "start_time": "2024-06-17T19:49:35.712576Z"
    }
   },
   "cell_type": "code",
   "source": [
    "import pandas as pd\n",
    "import matplotlib.pyplot as plt\n",
    "import matplotlib\n",
    "import numpy as np\n",
    "import seaborn as sns\n",
    "from algbench import read_as_pandas\n",
    "\n",
    "font = {'family': 'serif', 'size': 11}\n",
    "matplotlib.rc('font', **font)\n",
    "\n",
    "\"\"\"\n",
    "QTG: #089099 - PPQAgreen\n",
    "QTG non-biased: #7CCBA2 - PPQAlightgreen\n",
    "Grover:#F0746E - PPQAorange\n",
    "Nested Q Search:#DC3977 - PPQApink\n",
    "QBnB:#7C1D6F - PPQApurple\n",
    "\"\"\"\n",
    "matplotlib.rcParams['axes.prop_cycle'] = matplotlib.cycler(color=[\n",
    "    \"#089099\",\n",
    "    \"#7CCBA2\",\n",
    "    \"#F0746E\",\n",
    "    \"#DC3977\"\n",
    "])\n",
    "\n",
    "plt.rcParams[\"font.family\"] = \"serif\"\n",
    "plt.rcParams[\"font.serif\"] = \"Times New Roman\"\n",
    "plt.rcParams['mathtext.fontset'] = 'stix'\n",
    "plt.rcParams['figure.figsize'] = [9, 3.5]"
   ],
   "id": "d0899c569e7720e",
   "outputs": [],
   "execution_count": 17
  },
  {
   "cell_type": "code",
   "source": [
    "paths = ['classical_qtg_comparison/small', 'classical_qtg_comparison/large']\n",
    "\n",
    "qtg_results = pd.concat([read_as_pandas(f'results/quantum_benchmark/{path}', lambda row: {\n",
    "    'algorithm': 'QTG',\n",
    "    'size': row['parameters']['args']['instance']['size'],\n",
    "    'instance': row['parameters']['args']['instance']['name'],\n",
    "    'grover_iterations': row['parameters']['args']['alg_params']['qtg_iterations'],\n",
    "}) for path in paths])\n",
    "\n",
    "instances = pd.concat([read_as_pandas(f'results/classical_benchmark/{path}', lambda row: {\n",
    "    'instance': row['parameters']['args']['instance']['name'],\n",
    "    'items': row['parameters']['args']['instance']['items'],\n",
    "    'capacity': row['parameters']['args']['instance']['capacity'],\n",
    "    'item_assignment': row['result']['item_assignments'],\n",
    "} if row['parameters']['args']['solver'] == \"combo\" else None) for path in paths])\n"
   ],
   "metadata": {
    "collapsed": false,
    "ExecuteTime": {
     "end_time": "2024-06-17T19:49:37.895277Z",
     "start_time": "2024-06-17T19:49:36.655837Z"
    }
   },
   "id": "cfe5070779d6cd60",
   "outputs": [],
   "execution_count": 18
  },
  {
   "metadata": {
    "ExecuteTime": {
     "end_time": "2024-06-17T19:51:39.524692Z",
     "start_time": "2024-06-17T19:51:39.224785Z"
    }
   },
   "cell_type": "code",
   "source": [
    "break_items = dict()\n",
    "prob_of_opt = dict()\n",
    "for _, row in instances.iterrows():\n",
    "    remaining_capacity = row['capacity']\n",
    "\n",
    "    for i, item in enumerate(row['items']):\n",
    "        if item['cost'] > remaining_capacity:\n",
    "            break_items[row['instance']] = i\n",
    "        remaining_capacity -= item['cost']\n",
    "    \n",
    "    current_probability = 1\n",
    "    remaining_capacity = row['capacity']\n",
    "    for i, item in enumerate(row['items']):\n",
    "        if item['cost'] <= remaining_capacity:\n",
    "            # item can be picked or not\n",
    "            current_probability /= 2\n",
    "            remaining_capacity -= item['cost']\n",
    "    \n",
    "    prob_of_opt[row['instance']] = current_probability\n",
    "\n",
    "    assert remaining_capacity >= 0\n",
    "    assert row['instance'] in break_items"
   ],
   "id": "a31a11c0f4eb6860",
   "outputs": [],
   "execution_count": 23
  },
  {
   "metadata": {
    "ExecuteTime": {
     "end_time": "2024-06-17T19:51:42.197645Z",
     "start_time": "2024-06-17T19:51:42.186430Z"
    }
   },
   "cell_type": "code",
   "source": [
    "grover_iteration_dfs = pd.concat([\n",
    "    pd.DataFrame({\n",
    "        \"algorithm\": \"Nested Q Search\",\n",
    "        \"size\": list(qtg_results[\"size\"]),\n",
    "        \"instance\": list(qtg_results[\"instance\"]),\n",
    "        \"grover_iterations\": [np.log10(2 ** ((row[\"size\"] - break_items[row[\"instance\"]]) / 4 + 1))\n",
    "                              for _, row in qtg_results.iterrows()],\n",
    "    }),\n",
    "    pd.DataFrame({\n",
    "        \"algorithm\": \"Grover\",\n",
    "        \"size\": list(qtg_results[\"size\"]),\n",
    "        \"instance\": list(qtg_results[\"instance\"]),\n",
    "        \"grover_iterations\": [(i / 2) * np.log10(2) for i in qtg_results[\"size\"]],\n",
    "    }),\n",
    "    pd.DataFrame({\n",
    "        \"algorithm\": \"QTG non-biased\",\n",
    "        \"size\": [i for i in qtg_results[\"size\"]],\n",
    "        \"instance\": list(qtg_results[\"instance\"]),\n",
    "        \"grover_iterations\": [np.log10(1. / np.sqrt(prob_of_opt[instance])) for instance in qtg_results[\"instance\"]],\n",
    "    }),\n",
    "    qtg_results\n",
    "])"
   ],
   "id": "7d3a40ab155a4833",
   "outputs": [],
   "execution_count": 24
  },
  {
   "metadata": {
    "ExecuteTime": {
     "end_time": "2024-06-17T19:51:47.698428Z",
     "start_time": "2024-06-17T19:51:47.063665Z"
    }
   },
   "cell_type": "code",
   "source": [
    "fig, ax = plt.subplots(figsize=(4.5, 3.5))\n",
    "sns.lineplot(grover_iteration_dfs, x=\"size\", y=\"grover_iterations\", hue=\"algorithm\", hue_order=[\n",
    "    \"QTG\", \"QTG non-biased\", \"Grover\", \"Nested Q Search\"\n",
    "], ax=ax)\n",
    "ax.set_yscale('log')\n",
    "\n",
    "ax.set_ylabel(\"Grover iterations\")"
   ],
   "id": "b96cf708f8cc65d2",
   "outputs": [
    {
     "data": {
      "text/plain": [
       "Text(0, 0.5, 'Grover iterations')"
      ]
     },
     "execution_count": 25,
     "metadata": {},
     "output_type": "execute_result"
    },
    {
     "data": {
      "text/plain": [
       "<Figure size 450x350 with 1 Axes>"
      ],
      "image/png": "[encoded data removed]"
     },
     "metadata": {},
     "output_type": "display_data"
    }
   ],
   "execution_count": 25
  },
  {
   "metadata": {},
   "cell_type": "code",
   "outputs": [],
   "execution_count": null,
   "source": "",
   "id": "9ea6927fbc20e34b"
  }
 ],
 "metadata": {
  "kernelspec": {
   "display_name": "Python 3",
   "language": "python",
   "name": "python3"
  },
  "language_info": {
   "codemirror_mode": {
    "name": "ipython",
    "version": 2
   },
   "file_extension": ".py",
   "mimetype": "text/x-python",
   "name": "python",
   "nbconvert_exporter": "python",
   "pygments_lexer": "ipython2",
   "version": "2.7.6"
  }
 },
 "nbformat": 4,
 "nbformat_minor": 5
}
